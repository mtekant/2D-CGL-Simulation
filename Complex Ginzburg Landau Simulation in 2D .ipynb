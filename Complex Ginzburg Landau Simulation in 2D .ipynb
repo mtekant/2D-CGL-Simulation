{
 "cells": [
  {
   "cell_type": "markdown",
   "metadata": {},
   "source": [
    "# Complex Ginzburg Landau Simulation in 2D\n",
    "\n",
    "### by Melis Tekant"
   ]
  },
  {
   "cell_type": "markdown",
   "metadata": {},
   "source": [
    "The complex Ginzburg-Landau equation (CGLE) is an extensively investigated nonlinear equation in physics. The dynamics arising from CGLE can exhibit waves, inward or outward moving spirals, and second-order phase transitions among other behaviors. Such time-dependent patterns can be found in a variety of physical systems such as Bose-Einstein condensates, superconductivity, and living matter. \n",
    "\n"
   ]
  }
 ],
 "metadata": {
  "kernelspec": {
   "display_name": "Python 3",
   "language": "python",
   "name": "python3"
  },
  "language_info": {
   "codemirror_mode": {
    "name": "ipython",
    "version": 3
   },
   "file_extension": ".py",
   "mimetype": "text/x-python",
   "name": "python",
   "nbconvert_exporter": "python",
   "pygments_lexer": "ipython3",
   "version": "3.8.5"
  }
 },
 "nbformat": 4,
 "nbformat_minor": 4
}
